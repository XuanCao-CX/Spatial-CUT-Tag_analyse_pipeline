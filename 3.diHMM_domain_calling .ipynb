{
 "cells": [
  {
   "cell_type": "code",
   "execution_count": null,
   "metadata": {},
   "outputs": [],
   "source": [
    "# The script used here can be found in diHMM website\n",
    "https://github.com/gcyuan/diHMM-cpp\n"
   ]
  },
  {
   "cell_type": "markdown",
   "metadata": {},
   "source": [
    "# Set dir"
   ]
  },
  {
   "cell_type": "code",
   "execution_count": null,
   "metadata": {},
   "outputs": [],
   "source": [
    "work_dir = \"diHMM_output\"\n"
   ]
  },
  {
   "cell_type": "markdown",
   "metadata": {},
   "source": [
    "# Step1: create binarized file"
   ]
  },
  {
   "cell_type": "code",
   "execution_count": null,
   "metadata": {},
   "outputs": [],
   "source": [
    "script_sh=\"bdg_to_binarize.sh\"\n",
    "chrom_size=\"mm10.chrom.sizes.txt\"\n",
    "bin_size=100\n",
    "input_bdg_dir=\"bdg/\"\n",
    "out_dir=\"1.binary/\"\n",
    "clusters=(\"C1\" \"C2\" \"C3\" \"C4\" \"C5\" \"C6\" \"C7\" \"C8\" \"C9\")\n",
    "mark=\"H3K4me3\"\n",
    "cutoff=5\n",
    "\n",
    "mkdir 1.binary\n",
    "num=${#clusters[@]}\n",
    "for ((i=0;i<$num;i++))\n",
    "do\n",
    "        cluster=${clusters[i]}\n",
    "        bdg=${input_bdg_dir}/${cluster}.bdg\n",
    "        sh $script_sh -i $bdg -o $out_dir -m $mark -t $cluster -s $bin_size -c $chrom_size -f $cutoff\n",
    "done"
   ]
  },
  {
   "cell_type": "code",
   "execution_count": null,
   "metadata": {},
   "outputs": [],
   "source": [
    "out_dir=1.binary_bed\n",
    "mkdir $out_dir\n",
    "\n",
    "bedf=${out_dir}/mm10_100bp.bed\n",
    "chrom_size=\"mm10.chrom.sizes.txt\"\n",
    "bedtools makewindows -g $chrom_size -w 100 > $bedf\n",
    "\n",
    "mark=H3K4me3\n",
    "clusters=(\"C1\" \"C2\" \"C3\" \"C4\" \"C5\" \"C6\" \"C7\" \"C8\" \"C9\")\n",
    "d=1.binary/\n",
    "for c in ${clusters[@]}\n",
    "do\n",
    "        o=$out_dir/${c}_binary.bed\n",
    "        f=\"$d/${c}_chr1_binary.txt ${d}/${c}_chr10_binary.txt ${d}/${c}_chr11_binary.txt \\\n",
    "        ${d}/${c}_chr12_binary.txt ${d}/${c}_chr13_binary.txt ${d}/${c}_chr14_binary.txt \\\n",
    "        ${d}/${c}_chr15_binary.txt ${d}/${c}_chr16_binary.txt ${d}/${c}_chr17_binary.txt \\\n",
    "        ${d}/${c}_chr18_binary.txt ${d}/${c}_chr19_binary.txt ${d}/${c}_chr2_binary.txt \\\n",
    "        ${d}/${c}_chr3_binary.txt ${d}/${c}_chr4_binary.txt ${d}/${c}_chr5_binary.txt \\\n",
    "        ${d}/${c}_chr6_binary.txt ${d}/${c}_chr7_binary.txt ${d}/${c}_chr8_binary.txt \\\n",
    "        ${d}/${c}_chr9_binary.txt ${d}/${c}_chrX_binary.txt\"\n",
    "        cat $f|grep -v $mark|grep -v chr|paste $bedf -|\\\n",
    "        perl -alne 'print if $F[3] == 1' > $o &\n",
    "done\n",
    "wait"
   ]
  },
  {
   "cell_type": "markdown",
   "metadata": {},
   "source": [
    "# Step 2: running diHMM"
   ]
  },
  {
   "cell_type": "markdown",
   "metadata": {},
   "source": [
    "## 2.1 running diHMM"
   ]
  },
  {
   "cell_type": "code",
   "execution_count": null,
   "metadata": {},
   "outputs": [],
   "source": [
    "out_dir=\"2.diHMM_out\"\n",
    "mkdir $out_dir\n",
    "cd $out_dir\n",
    "\n",
    "mark=\"H3K4me3\"\n",
    "domain_size=5\n",
    "domain_states=2\n",
    "bin_states=2\n",
    "bin_size=100\n",
    "\n",
    "binary_dir=../1.binary/\n",
    "log_dir=\"0.logs\"\n",
    "mkdir -p $log_dir\n",
    "\n",
    "sc_py=dihmm-cpp/Train_diHMM.py\n",
    "clusters=(\"C1\" \"C2\" \"C3\" \"C4\" \"C5\" \"C6\" \"C7\" \"C8\" \"C9\")\n",
    "chrs=\"chr1,chr2,chr3,chr4,chr5,chr6,chr7,chr8,chr9,chr10,chr11,chr12,chr13,chr14,chr15,chr16,chr17,chr18,chr19,chrX\"\n",
    "#chrs=(chr1 chr10 chr11 chr12 chr13 chr14 chr15 chr16 chr17 chr18 chr19 chr2 chr3 chr4 chr5 chr6 chr7 chr8 chr9 chrX)\n",
    "for x in ${clusters[@]}\n",
    "do\n",
    "        o=$log_dir/$x.log;od=${x};\n",
    "        bsub -P acc_YuanLab -W 4000  -R rusage[mem=50000] -n 1 -R span[hosts=1] -o $o \\\n",
    "        python $sc_py -i $binary_dir -o $od --clusters $x --chroms $chrs --n_bin_states $bin_states --n_domain_states $domain_states --domain_size $domain_size --bin_res $bin_size\n",
    "done"
   ]
  },
  {
   "cell_type": "markdown",
   "metadata": {},
   "source": [
    "## 2.2 get domain file"
   ]
  },
  {
   "cell_type": "code",
   "execution_count": null,
   "metadata": {},
   "outputs": [],
   "source": [
    "in_dir=\"2.diHMM_out\"\n",
    "out_dir=\"2.domain_file\"\n",
    "mkdir -p $out_dir\n",
    "\n",
    "clusters=(\"C1\" \"C2\" \"C3\" \"C4\" \"C5\" \"C6\" \"C7\" \"C8\" \"C9\")\n",
    "for x in ${clusters[@]}\n",
    "do\n",
    "        odomain=${out_dir}/domain_states_${x}.bed\n",
    "        obin=${out_dir}/bin_states_${x}.bed\n",
    "\n",
    "        cat $in_dir/${x}/anno/*_domain_states.bed |grep -v track|perl -alne 'if ($F[3] eq \"N0\"){$s=\"N1\"};if ($F[3]eq \"N1\"){$s=\"N0\"};$\"=\"\\t\";print \"@F[0..2]\\t$s\\t@F[4..$#F]\"' > $odomain\n",
    "        cat $in_dir/${x}/anno/*_bin_states.bed |grep -v track > $obin\n",
    "\n",
    "done"
   ]
  },
  {
   "cell_type": "markdown",
   "metadata": {},
   "source": [
    "## 2.3 get domain bed file "
   ]
  },
  {
   "cell_type": "code",
   "execution_count": null,
   "metadata": {},
   "outputs": [],
   "source": [
    "in_dir=\"2.domain_file/\"\n",
    "out_dir=\"3.domain_bed\"\n",
    "label=domain\n",
    "mkdir $out_dir\n",
    "\n",
    "clusters=(\"C1\" \"C2\" \"C3\" \"C4\" \"C5\" \"C6\" \"C7\" \"C8\" \"C9\")\n",
    "for x in ${clusters[@]}\n",
    "do\n",
    "        n=${label}\"_states_\"$x\".bed\"\n",
    "        f=${in_dir}/$n\n",
    "        o=${out_dir}/$n\n",
    "        perl -alne '$\"=\"\\t\";print \"@F[0..2]\" if $F[3] eq \"N1\"' $f|sort -k1,1 -k2,2n|perl -slane 'print \"$_\\t${l}_$.\"' -- -l=$label > $o &\n",
    "done\n",
    "wait"
   ]
  },
  {
   "cell_type": "markdown",
   "metadata": {},
   "source": [
    "## 2.4 get bin bed file"
   ]
  },
  {
   "cell_type": "code",
   "execution_count": null,
   "metadata": {},
   "outputs": [],
   "source": [
    "in_dir=\"2.domain_file/\"\n",
    "out_dir=\"3.bin_bed\"\n",
    "label=bin\n",
    "mkdir $out_dir\n",
    "\n",
    "clusters=(\"C1\" \"C2\" \"C3\" \"C4\" \"C5\" \"C6\" \"C7\" \"C8\" \"C9\")\n",
    "for x in ${clusters[@]}\n",
    "do\n",
    "        n=${label}\"_states_\"$x\".bed\"\n",
    "        f=${in_dir}/$n\n",
    "        o=${out_dir}/$n\n",
    "        perl -alne '$\"=\"\\t\";print \"@F[0..2]\" if $F[3] eq \"N1\"' $f|sort -k1,1 -k2,2n|perl -slane 'print \"$_\\t${l}_$.\"' -- -l=$label > $o &\n",
    "done\n",
    "wait"
   ]
  },
  {
   "cell_type": "code",
   "execution_count": null,
   "metadata": {},
   "outputs": [],
   "source": []
  }
 ],
 "metadata": {
  "kernelspec": {
   "display_name": "r41py39_1_python",
   "language": "python",
   "name": "r41py39_1_python"
  },
  "language_info": {
   "codemirror_mode": {
    "name": "ipython",
    "version": 3
   },
   "file_extension": ".py",
   "mimetype": "text/x-python",
   "name": "python",
   "nbconvert_exporter": "python",
   "pygments_lexer": "ipython3",
   "version": "3.9.15"
  }
 },
 "nbformat": 4,
 "nbformat_minor": 2
}
