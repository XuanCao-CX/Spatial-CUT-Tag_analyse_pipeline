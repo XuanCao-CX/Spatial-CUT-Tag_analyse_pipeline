{
 "cells": [
  {
   "cell_type": "markdown",
   "metadata": {},
   "source": [
    "# Load packages"
   ]
  },
  {
   "cell_type": "code",
   "execution_count": null,
   "metadata": {},
   "outputs": [],
   "source": [
    "library(ArchR)\n",
    "library(Giotto)\n",
    "library(parallel)"
   ]
  },
  {
   "cell_type": "code",
   "execution_count": null,
   "metadata": {},
   "outputs": [],
   "source": [
    "addArchRThreads(threads <- 20)\n",
    "addArchRGenome(\"mm10\")"
   ]
  },
  {
   "cell_type": "markdown",
   "metadata": {},
   "source": [
    "# Set dictionary"
   ]
  },
  {
   "cell_type": "code",
   "execution_count": null,
   "metadata": {},
   "outputs": [],
   "source": [
    "data_dir = \"spatial_CUT_Tag/H3K4me3_E11_50um/processed_data/\"\n",
    "save_dir = \"H3K4me3_E11_50um/\""
   ]
  },
  {
   "cell_type": "markdown",
   "metadata": {},
   "source": [
    "# Load data"
   ]
  },
  {
   "cell_type": "code",
   "execution_count": null,
   "metadata": {},
   "outputs": [],
   "source": [
    "tissue_positions_path = paste0(data_dir, 'spatial/tissue_positions_list.csv')\n",
    "fregment = paste0(data_dir, 'fragments.tsv.gz')\n",
    "png_path = paste0(data_dir, 'spatial/tissue_lowres_image.png')"
   ]
  },
  {
   "cell_type": "markdown",
   "metadata": {},
   "source": [
    "# Create ArchR arrow files"
   ]
  },
  {
   "cell_type": "code",
   "execution_count": null,
   "metadata": {},
   "outputs": [],
   "source": [
    "\n",
    "ArrowFiles <- createArrowFiles(inputFiles = c(fregment), sampleNames = c('H3K4me3'),\n",
    "                               filterTSS = 0, filterFrags = 0, minFrags = 0, maxFrags = 1e+07,\n",
    "                               addTileMat = TRUE, addGeneScoreMat = TRUE, offsetPlus =0, offsetMinus=0,\n",
    "                               TileMatParams = list(tileSize = 5000), force = TRUE)\n",
    "\n",
    "H3K4me3_all <- ArchRProject(ArrowFiles, outputDirectory = save_dir, copyArrows = TRUE)"
   ]
  },
  {
   "cell_type": "code",
   "execution_count": null,
   "metadata": {},
   "outputs": [],
   "source": []
  },
  {
   "cell_type": "code",
   "execution_count": null,
   "metadata": {},
   "outputs": [],
   "source": [
    "## spatial locations and get in-tissue spots\n",
    "spatial_results = data.table::fread(tissue_positions_path)\n",
    "spatial_results[, V1 := paste0('H3K4me3#',V1,'-1'), by = 1:nrow(spatial_results)]\n",
    "spatial_results = spatial_results[match(H3K4me3_all$cellNames, V1)]\n",
    "colnames(spatial_results) = c('barcode', 'in_tissue', 'array_row', 'array_col', 'col_pxl', 'row_pxl')\n",
    "#\n",
    "cellNames_in_tissue = spatial_results[in_tissue==1,]$barcode\n",
    "H3K4me3 = H3K4me3_all[cellNames_in_tissue,]\n",
    "spatial_locs = spatial_results[match(H3K4me3$cellNames, barcode),.(barcode,row_pxl,-col_pxl)]\n",
    "data.table::setnames(spatial_locs, new=c(\"barcode\",\"x\",\"y\"))\n",
    "spatial_locs = data.frame(spatial_locs)\n",
    "rownames(spatial_locs) = spatial_locs$barcode\n",
    "spatial_locs = spatial_locs[rownames(H3K4me3@cellColData),]\n"
   ]
  },
  {
   "cell_type": "markdown",
   "metadata": {},
   "source": [
    "## Ploting statistics"
   ]
  },
  {
   "cell_type": "code",
   "execution_count": null,
   "metadata": {},
   "outputs": [],
   "source": [
    "df <- getCellColData(H3K4me3, select = c(\"log10(nFrags)\", \"TSSEnrichment\"))\n",
    "p <- ggPoint(\n",
    " x = df[,1],\n",
    "    y = df[,2],\n",
    "    colorDensity = TRUE,\n",
    "    continuousSet = \"sambaNight\",\n",
    "    xlabel = \"Log10 Unique Fragments\",\n",
    "    ylabel = \"TSS Enrichment\",\n",
    "    xlim = c(log10(500), quantile(df[,1], probs = 0.99)),\n",
    "    ylim = c(0, quantile(df[,2], probs = 0.99))\n",
    ") + geom_hline(yintercept = 4, lty = \"dashed\") + geom_vline(xintercept = 3, lty = \"dashed\")\n",
    "p\n",
    "png(paste0(save_dir,\"/1.TSS-vs-Frags.png\"),width = 300, height = 300)\n",
    "plot(p)\n",
    "dev.off()\n",
    "\n",
    "\n",
    "p1 <- plotGroups(ArchRProj = H3K4me3, groupBy = \"Sample\", colorBy = \"cellColData\",\n",
    "    name = \"TSSEnrichment\", plotAs = \"ridges\",baseSize=24)\n",
    "p1\n",
    "png(paste0(save_dir,\"/1.TSS-rideges.png\"))\n",
    "plot(p1)\n",
    "dev.off()\n",
    "\n",
    "p2 <- plotGroups(ArchRProj = H3K4me3, groupBy = \"Sample\", colorBy = \"cellColData\",\n",
    "    name = \"TSSEnrichment\", plotAs = \"violin\", alpha = 0.4, addBoxPlot = TRUE, baseSize=20)\n",
    "p2\n",
    "png(paste0(save_dir,\"/1.TSS-violin.png\"),width = 200, height = 500)\n",
    "plot(p2)\n",
    "dev.off()\n",
    "\n",
    "p1 <- plotFragmentSizes(ArchRProj = H3K4me3)\n",
    "p1\n",
    "png(paste0(save_dir,\"/2.Fragment-size-distribution.png\"))\n",
    "plot(p1)\n",
    "dev.off()\n",
    "\n",
    "\n",
    "p2 <- plotTSSEnrichment(ArchRProj = H3K4me3)\n",
    "p2\n",
    "png(paste0(save_dir,\"/2.TSS-enrichment-profiles.png\"))\n",
    "plot(p2)\n",
    "dev.off()"
   ]
  },
  {
   "cell_type": "markdown",
   "metadata": {},
   "source": [
    "# Iterative Latent Semantic Indexing (LSI)"
   ]
  },
  {
   "cell_type": "code",
   "execution_count": null,
   "metadata": {},
   "outputs": [],
   "source": [
    "H3K4me3 <- addIterativeLSI(ArchRProj = H3K4me3, \n",
    "                           useMatrix = \"TileMatrix\", \n",
    "                           name = \"IterativeLSI\", \n",
    "                           iterations = 3, \n",
    "                           clusterParams = list(resolution = c(0.2), \n",
    "                                                sampleCells = 10000,\n",
    "                                                n.start = 10), \n",
    "                            varFeatures = 25000, \n",
    "                           dimsToUse = 1:30\n",
    "                          )"
   ]
  },
  {
   "cell_type": "markdown",
   "metadata": {},
   "source": [
    "# UMAP"
   ]
  },
  {
   "cell_type": "code",
   "execution_count": null,
   "metadata": {},
   "outputs": [],
   "source": [
    "H3K4me3 <- addUMAP(ArchRProj = H3K4me3, \n",
    "                   reducedDims = \"IterativeLSI\", \n",
    "                   name = \"UMAP\", \n",
    "                   nNeighbors = 20, \n",
    "                   minDist = 0.4, \n",
    "                   metric = \"cosine\"\n",
    "                  )"
   ]
  },
  {
   "cell_type": "markdown",
   "metadata": {},
   "source": [
    "# Clustering"
   ]
  },
  {
   "cell_type": "code",
   "execution_count": null,
   "metadata": {},
   "outputs": [],
   "source": [
    "H3K4me3 <- addClusters(input = H3K4me3, \n",
    "                       reducedDims = \"IterativeLSI\", \n",
    "                       method = \"Seurat\", \n",
    "                       name = \"Clusters\",\n",
    "                       resolution = 1\n",
    "                      )"
   ]
  },
  {
   "cell_type": "code",
   "execution_count": null,
   "metadata": {},
   "outputs": [],
   "source": [
    "p1 <- plotEmbedding(ArchRProj = H3K4me3, colorBy = \"cellColData\", \n",
    "                    name = clus, embedding = \"UMAP\",\n",
    "                    size = 2, baseSize = 8)"
   ]
  },
  {
   "cell_type": "markdown",
   "metadata": {},
   "source": [
    "## Save data"
   ]
  },
  {
   "cell_type": "code",
   "execution_count": null,
   "metadata": {},
   "outputs": [],
   "source": [
    "save(H3K4me3, file = paste0(save_dir, '/H3K4me3.RData'))"
   ]
  },
  {
   "cell_type": "code",
   "execution_count": null,
   "metadata": {},
   "outputs": [],
   "source": []
  },
  {
   "cell_type": "code",
   "execution_count": null,
   "metadata": {},
   "outputs": [],
   "source": []
  }
 ],
 "metadata": {
  "kernelspec": {
   "display_name": "r41py39_1_R",
   "language": "R",
   "name": "r41py39_1_r"
  },
  "language_info": {
   "codemirror_mode": "r",
   "file_extension": ".r",
   "mimetype": "text/x-r-source",
   "name": "R",
   "pygments_lexer": "r",
   "version": "4.1.3"
  }
 },
 "nbformat": 4,
 "nbformat_minor": 2
}
